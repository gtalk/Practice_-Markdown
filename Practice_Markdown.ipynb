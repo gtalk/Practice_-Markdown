{
  "nbformat": 4,
  "nbformat_minor": 0,
  "metadata": {
    "colab": {
      "name": "Practice_Markdown.ipynb",
      "provenance": [],
      "authorship_tag": "ABX9TyM2gT3GQfsufkYs/e+1nuiW",
      "include_colab_link": true
    },
    "kernelspec": {
      "name": "python3",
      "display_name": "Python 3"
    },
    "language_info": {
      "name": "python"
    }
  },
  "cells": [
    {
      "cell_type": "markdown",
      "metadata": {
        "id": "view-in-github",
        "colab_type": "text"
      },
      "source": [
        "<a href=\"https://colab.research.google.com/github/gtalk/Practice_-Markdown/blob/main/Practice_Markdown.ipynb\" target=\"_parent\"><img src=\"https://colab.research.google.com/assets/colab-badge.svg\" alt=\"Open In Colab\"/></a>"
      ]
    },
    {
      "cell_type": "markdown",
      "metadata": {
        "id": "12gy2FxdLS56"
      },
      "source": [
        "\n",
        "\n",
        "\n",
        "# **Practice Markdown**"
      ]
    },
    {
      "cell_type": "code",
      "metadata": {
        "id": "pYOHkmoqLqC3"
      },
      "source": [
        ""
      ],
      "execution_count": null,
      "outputs": []
    }
  ]
}